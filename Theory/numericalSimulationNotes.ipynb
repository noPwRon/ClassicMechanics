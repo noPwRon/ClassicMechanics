{
 "cells": [
  {
   "cell_type": "markdown",
   "metadata": {},
   "source": [
    "# Notes when doing lambdify\n",
    "for more complicated systems such as a double pendulumn you actually need 4 first order ODEs to get the proper function to work. This is because python can't do second order ODEs but you can convert them easy enough where\n",
    "\n",
    "Define $z_1 = d\\theta_1/dt$ and $z_2 = d\\theta_2/dt$\n",
    "\n",
    "then\n",
    " * $dz_1/dt$\n",
    " * $d\\theta_1/dt = z1$\n",
    " * $dz_2/dt$\n",
    " * $d\\theta_2/dt = z2$"
   ]
  },
  {
   "cell_type": "markdown",
   "metadata": {},
   "source": [
    "## Next step \n",
    "\n",
    "turn the four first order ODEs into functions using lambdify\n",
    "\n",
    "Now we want to define $\\overrightarrow{S} = (\\theta_1, z_1, \\theta_2, z_2)$"
   ]
  },
  {
   "cell_type": "markdown",
   "metadata": {},
   "source": [
    "### small note\n",
    "\n",
    "for animations if you want it to be in real time you need to match up the frames per second with the number of data points per second. ie if you had 40 seconds of data and 1001 points you would have 25 points per second"
   ]
  },
  {
   "cell_type": "code",
   "execution_count": null,
   "metadata": {},
   "outputs": [],
   "source": []
  }
 ],
 "metadata": {
  "kernelspec": {
   "display_name": "classicMechanics",
   "language": "python",
   "name": "python3"
  },
  "language_info": {
   "codemirror_mode": {
    "name": "ipython",
    "version": 3
   },
   "file_extension": ".py",
   "mimetype": "text/x-python",
   "name": "python",
   "nbconvert_exporter": "python",
   "pygments_lexer": "ipython3",
   "version": "3.12.7"
  }
 },
 "nbformat": 4,
 "nbformat_minor": 2
}
