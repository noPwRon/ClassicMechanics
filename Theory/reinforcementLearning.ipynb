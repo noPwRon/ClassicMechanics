{
 "cells": [
  {
   "cell_type": "markdown",
   "metadata": {},
   "source": [
    "# Reinforcement Learning Basics\n",
    "\n",
    "1. Reinforcement learning is a type of machine learning in which an agent learns to make decisions by interacting with an environment\n",
    "2. An agent is an entity that interacts with an environment in order to learn how to make decisions that will maximize a specific goal or objective.\n",
    "3. The environment is an external sys or context in which the agent operates. The environment can be a simulation, a physical system, or any other system that the agent interacts with. The environment provides feedback to the agent in the form of rewards or punishments, which the agent uses to learn how to make better choices.\n",
    "4. Agent will than take actions through a trial and error process."
   ]
  },
  {
   "cell_type": "markdown",
   "metadata": {},
   "source": [
    "# Basic process with Gymnasium\n",
    "\n",
    "1. Define the environment\n",
    "2. Create an instance of the environment\n",
    "3. Define the agents policy\n",
    "4. interact with the environment, taking actions, and receiving rewards.\n",
    "5. Update the agents policy based on the rewards it receives\n",
    "6. rinse and repeat 4 and 5\n",
    "\n"
   ]
  },
  {
   "cell_type": "markdown",
   "metadata": {},
   "source": []
  }
 ],
 "metadata": {
  "language_info": {
   "name": "python"
  }
 },
 "nbformat": 4,
 "nbformat_minor": 2
}
