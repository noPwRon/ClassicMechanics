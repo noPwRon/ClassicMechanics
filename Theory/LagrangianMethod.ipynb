{
 "cells": [
  {
   "cell_type": "markdown",
   "metadata": {},
   "source": [
    "# Lagrange Mechanics\n"
   ]
  },
  {
   "cell_type": "markdown",
   "metadata": {},
   "source": [
    "So we are looking at lagrangian. Basic formula starts like this\n",
    "\n",
    "$$L = T - V$$\n",
    "\n",
    "This can be used to define the position velocity and acceleration of a system, and basically gives you F=ma (There is probably a better way to describe this.)\n",
    "\n",
    ".... There are a bunch of intermediate steps here but, the enthusaistic reader can do the work them selves to obtain\n",
    "\n",
    "$$ L = \\frac{1}{2} m [ \\dot{x}^{2}+\\dot{y}^{2}+\\dot{z}^{2}] - V_{(x,y,z)}$$ \n",
    "\n",
    "\n",
    "note, they are the same equation one is just easier for me to understand from an xyz frame of reference\n",
    "\n",
    "Also need to do this part\n",
    "\n",
    "$$\\frac{\\partial L}{\\partial \\theta} - \\frac{d}{dt}\\frac{\\partial L}{\\partial \\dot{\\theta}}$$\n",
    "\n",
    "Note that in this case theta is just what we are using for a pendulum it could be any variable"
   ]
  },
  {
   "cell_type": "markdown",
   "metadata": {},
   "source": [
    "## Some classic examples\n",
    "\n",
    "### Pendulumn\n",
    "\n",
    "Lets think about this. So the pendlumn is assumed to swing in a 2d plane. That means the center of mass will have some kind of x,y position and location which we can definintely turn into a L $\\theta$ kind of relationship\n",
    "\n",
    "____ >         \n",
    "|\n",
    "|\n",
    "|/\n",
    "\n",
    " $ x = L\\cos{\\theta} $ <br>\n",
    " $ y = L\\sin{\\theta} $\n",
    "\n",
    "Need to turn these into velocities to get them to fullfill this portion: \n",
    "\n",
    "$$[ \\dot{x}^{2}+\\dot{y}^{2}+\\dot{z}^{2}]$$\n",
    "\n",
    "Python helps with this.\n"
   ]
  },
  {
   "attachments": {
    "image.png": {
     "image/png": "[encoded data removed]"
    }
   },
   "cell_type": "markdown",
   "metadata": {},
   "source": [
    "### Cart with Pendulumn\n",
    "\n",
    "Given a cart attached to a wall by a string with a pendulum on a rigid string with a mass attached to a mass find the equation of motion\n",
    "![image.png](attachment:image.png)\n",
    "\n",
    "$$x_{cart} = x$$\n",
    "$$x_{mass} = x_{cart} + L*cos(\\theta)$$\n",
    "$$y_{mass} = L*sin(\\theta)$$\n"
   ]
  },
  {
   "cell_type": "code",
   "execution_count": 3,
   "metadata": {},
   "outputs": [
    {
     "data": {
      "application/vnd.jupyter.widget-view+json": {
       "model_id": "9a23bd724bff4ce299c28319b495b298",
       "version_major": 2,
       "version_minor": 0
      },
      "text/plain": [
       "HBox(children=(MultiCanvas(sync_image_data=True, width=500), VBox(children=(ToggleButtons(icons=('brush', 'squ…"
      ]
     },
     "execution_count": 3,
     "metadata": {},
     "output_type": "execute_result"
    }
   ],
   "source": [
    "from ipycanvas_drawing import DrawingWidget\n",
    "draw_widget = DrawingWidget(width=500,height=500)\n",
    "draw_widget.show()"
   ]
  },
  {
   "cell_type": "code",
   "execution_count": null,
   "metadata": {},
   "outputs": [
    {
     "ename": "NameError",
     "evalue": "name 'DrawingWidget' is not defined",
     "output_type": "error",
     "traceback": [
      "\u001b[1;31m---------------------------------------------------------------------------\u001b[0m",
      "\u001b[1;31mNameError\u001b[0m                                 Traceback (most recent call last)",
      "Cell \u001b[1;32mIn[2], line 1\u001b[0m\n\u001b[1;32m----> 1\u001b[0m draw_widget \u001b[38;5;241m=\u001b[39m \u001b[43mDrawingWidget\u001b[49m(width\u001b[38;5;241m=\u001b[39m\u001b[38;5;241m500\u001b[39m,height\u001b[38;5;241m=\u001b[39m\u001b[38;5;241m500\u001b[39m)\n\u001b[0;32m      2\u001b[0m draw_widget\u001b[38;5;241m.\u001b[39mshow()\n",
      "\u001b[1;31mNameError\u001b[0m: name 'DrawingWidget' is not defined"
     ]
    }
   ],
   "source": [
    "\n"
   ]
  },
  {
   "cell_type": "code",
   "execution_count": null,
   "metadata": {},
   "outputs": [],
   "source": []
  },
  {
   "cell_type": "code",
   "execution_count": null,
   "metadata": {},
   "outputs": [],
   "source": []
  }
 ],
 "metadata": {
  "kernelspec": {
   "display_name": "classicMechanics",
   "language": "python",
   "name": "python3"
  },
  "language_info": {
   "codemirror_mode": {
    "name": "ipython",
    "version": 3
   },
   "file_extension": ".py",
   "mimetype": "text/x-python",
   "name": "python",
   "nbconvert_exporter": "python",
   "pygments_lexer": "ipython3",
   "version": "3.12.7"
  }
 },
 "nbformat": 4,
 "nbformat_minor": 2
}
