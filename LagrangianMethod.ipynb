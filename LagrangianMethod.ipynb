{
 "cells": [
  {
   "cell_type": "markdown",
   "metadata": {},
   "source": [
    "# Lagrange Mechanics\n"
   ]
  },
  {
   "cell_type": "markdown",
   "metadata": {},
   "source": [
    "So we are looking at lagrangian. Basic formula starts like this\n",
    "\n",
    "$$L = T - V$$\n",
    "\n",
    "This can be used to define the position velocity and acceleration of a system, and basically gives you F=ma (There is probably a better way to describe this.)\n",
    "\n",
    ".... There are a bunch of intermediate steps here but, the enthusaistic reader can do the work them selves to obtain\n",
    "\n",
    "$$ L = \\frac{1}{2} m [ \\dot{x}^{2}+\\dot{y}^{2}+\\dot{z}^{2}] - V_{(x,y,z)}$$ \n",
    "\n",
    "\n",
    "note, they are the same equation one is just easier for me to understand from an xyz frame of reference\n",
    "\n"
   ]
  },
  {
   "cell_type": "markdown",
   "metadata": {},
   "source": [
    "## Some classic examples\n",
    "\n",
    "### Pendulumn\n",
    "\n",
    "Lets think about this. So the pendlumn is assumed to swing in a 2d plane. That means the center of mass will have some kind of x,y position and location which we can definintely turn into a L $\\theta$ kind of relationship\n",
    "\n",
    "____ >         \n",
    "|\n",
    "|\n",
    "|/\n",
    "\n",
    " $ x = L\\cos{\\theta} $ <br>\n",
    " $ y = L\\sin{\\theta} $\n",
    "\n",
    "Need to turn these into velocities to get them to fullfill this portion: \n",
    "\n",
    "$$[ \\dot{x}^{2}+\\dot{y}^{2}+\\dot{z}^{2}]$$\n",
    "\n",
    "Python helps with this.\n"
   ]
  },
  {
   "cell_type": "markdown",
   "metadata": {},
   "source": []
  }
 ],
 "metadata": {
  "language_info": {
   "name": "python"
  }
 },
 "nbformat": 4,
 "nbformat_minor": 2
}
